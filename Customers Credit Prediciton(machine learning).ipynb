{
 "cells": [
  {
   "cell_type": "markdown",
   "metadata": {},
   "source": [
    "Create a model to make predictions.\n",
    "\n"
   ]
  },
  {
   "cell_type": "markdown",
   "metadata": {},
   "source": [
    "# The problem\n",
    "\n",
    "A dataset of customers who have applied for credit is given.\n",
    "Each customer is associated with some number of attributes, and a rating of being a Good/Bad credit risk.\n",
    "\n",
    "## The dataset\n",
    "\n",
    "- The dataset is given in the file \"credit_data.csv\".\n",
    "- Each row corresponds to one customer.\n",
    "- There are 20 attributes, some numeric and some categorical.\n",
    "- The last column \"Credit Risk\" encodes whether the customer was judged to be a Good/Bad credit risk\n",
    "    - 1: Good credit risk\n",
    "    - 2: Bad credit risk\n",
    "\n",
    "You will use this data to come up with a model that predicts \"Credit Risk\" for a customer from the customer's attributes.\n",
    "\n",
    "### Attributes\n",
    "\n",
    "A description of the attributes is given in the plain text file \"credit_data_attributes.txt\".\n",
    "\n",
    "You will notice that the values for many attributes are encoded as strings.\n",
    "For example, attribute 7 is the customer's Employment Status, having possible values\n",
    "A71, A72, .., A75.  Per the file, \"A71\" means the customer is unemployed.\n",
    "\n",
    "#### Currency\n",
    "\n",
    "The currency units are \"DM\" (old German currency: the Deutsche Mark).\n",
    "\n",
    "As you might guess: this data is not recent; you may find anachronisms other than the currency."
   ]
  },
  {
   "cell_type": "markdown",
   "metadata": {},
   "source": [
    "# Getting the data"
   ]
  },
  {
   "cell_type": "code",
   "execution_count": 1,
   "metadata": {},
   "outputs": [],
   "source": [
    "import pandas as pd\n",
    "import numpy as np\n",
    "import matplotlib.pyplot as plt\n",
    "import os "
   ]
  },
  {
   "cell_type": "code",
   "execution_count": 2,
   "metadata": {},
   "outputs": [
    {
     "data": {
      "text/html": [
       "<div>\n",
       "<style scoped>\n",
       "    .dataframe tbody tr th:only-of-type {\n",
       "        vertical-align: middle;\n",
       "    }\n",
       "\n",
       "    .dataframe tbody tr th {\n",
       "        vertical-align: top;\n",
       "    }\n",
       "\n",
       "    .dataframe thead th {\n",
       "        text-align: right;\n",
       "    }\n",
       "</style>\n",
       "<table border=\"1\" class=\"dataframe\">\n",
       "  <thead>\n",
       "    <tr style=\"text-align: right;\">\n",
       "      <th></th>\n",
       "      <th>Attribute 1</th>\n",
       "      <th>Attribute 2</th>\n",
       "      <th>Attribute 3</th>\n",
       "      <th>Attribute 4</th>\n",
       "      <th>Attribute 5</th>\n",
       "      <th>Attribute 6</th>\n",
       "      <th>Attribute 7</th>\n",
       "      <th>Attribute 8</th>\n",
       "      <th>Attribute 9</th>\n",
       "      <th>Attribute 10</th>\n",
       "      <th>...</th>\n",
       "      <th>Attribute 12</th>\n",
       "      <th>Attribute 13</th>\n",
       "      <th>Attribute 14</th>\n",
       "      <th>Attribute 15</th>\n",
       "      <th>Attribute 16</th>\n",
       "      <th>Attribute 17</th>\n",
       "      <th>Attribute 18</th>\n",
       "      <th>Attribute 19</th>\n",
       "      <th>Attribute 20</th>\n",
       "      <th>Credit Risk</th>\n",
       "    </tr>\n",
       "  </thead>\n",
       "  <tbody>\n",
       "    <tr>\n",
       "      <th>0</th>\n",
       "      <td>A11</td>\n",
       "      <td>6</td>\n",
       "      <td>A34</td>\n",
       "      <td>A43</td>\n",
       "      <td>1169</td>\n",
       "      <td>A65</td>\n",
       "      <td>A75</td>\n",
       "      <td>4</td>\n",
       "      <td>A93</td>\n",
       "      <td>A101</td>\n",
       "      <td>...</td>\n",
       "      <td>A121</td>\n",
       "      <td>67</td>\n",
       "      <td>A143</td>\n",
       "      <td>A152</td>\n",
       "      <td>2</td>\n",
       "      <td>A173</td>\n",
       "      <td>1</td>\n",
       "      <td>A192</td>\n",
       "      <td>A201</td>\n",
       "      <td>1</td>\n",
       "    </tr>\n",
       "    <tr>\n",
       "      <th>1</th>\n",
       "      <td>A12</td>\n",
       "      <td>48</td>\n",
       "      <td>A32</td>\n",
       "      <td>A43</td>\n",
       "      <td>5951</td>\n",
       "      <td>A61</td>\n",
       "      <td>A73</td>\n",
       "      <td>2</td>\n",
       "      <td>A92</td>\n",
       "      <td>A101</td>\n",
       "      <td>...</td>\n",
       "      <td>A121</td>\n",
       "      <td>22</td>\n",
       "      <td>A143</td>\n",
       "      <td>A152</td>\n",
       "      <td>1</td>\n",
       "      <td>A173</td>\n",
       "      <td>1</td>\n",
       "      <td>A191</td>\n",
       "      <td>A201</td>\n",
       "      <td>2</td>\n",
       "    </tr>\n",
       "    <tr>\n",
       "      <th>2</th>\n",
       "      <td>A14</td>\n",
       "      <td>12</td>\n",
       "      <td>A34</td>\n",
       "      <td>A46</td>\n",
       "      <td>2096</td>\n",
       "      <td>A61</td>\n",
       "      <td>A74</td>\n",
       "      <td>2</td>\n",
       "      <td>A93</td>\n",
       "      <td>A101</td>\n",
       "      <td>...</td>\n",
       "      <td>A121</td>\n",
       "      <td>49</td>\n",
       "      <td>A143</td>\n",
       "      <td>A152</td>\n",
       "      <td>1</td>\n",
       "      <td>A172</td>\n",
       "      <td>2</td>\n",
       "      <td>A191</td>\n",
       "      <td>A201</td>\n",
       "      <td>1</td>\n",
       "    </tr>\n",
       "    <tr>\n",
       "      <th>3</th>\n",
       "      <td>A11</td>\n",
       "      <td>42</td>\n",
       "      <td>A32</td>\n",
       "      <td>A42</td>\n",
       "      <td>7882</td>\n",
       "      <td>A61</td>\n",
       "      <td>A74</td>\n",
       "      <td>2</td>\n",
       "      <td>A93</td>\n",
       "      <td>A103</td>\n",
       "      <td>...</td>\n",
       "      <td>A122</td>\n",
       "      <td>45</td>\n",
       "      <td>A143</td>\n",
       "      <td>A153</td>\n",
       "      <td>1</td>\n",
       "      <td>A173</td>\n",
       "      <td>2</td>\n",
       "      <td>A191</td>\n",
       "      <td>A201</td>\n",
       "      <td>1</td>\n",
       "    </tr>\n",
       "    <tr>\n",
       "      <th>4</th>\n",
       "      <td>A11</td>\n",
       "      <td>24</td>\n",
       "      <td>A33</td>\n",
       "      <td>A40</td>\n",
       "      <td>4870</td>\n",
       "      <td>A61</td>\n",
       "      <td>A73</td>\n",
       "      <td>3</td>\n",
       "      <td>A93</td>\n",
       "      <td>A101</td>\n",
       "      <td>...</td>\n",
       "      <td>A124</td>\n",
       "      <td>53</td>\n",
       "      <td>A143</td>\n",
       "      <td>A153</td>\n",
       "      <td>2</td>\n",
       "      <td>A173</td>\n",
       "      <td>2</td>\n",
       "      <td>A191</td>\n",
       "      <td>A201</td>\n",
       "      <td>2</td>\n",
       "    </tr>\n",
       "  </tbody>\n",
       "</table>\n",
       "<p>5 rows × 21 columns</p>\n",
       "</div>"
      ],
      "text/plain": [
       "  Attribute 1  Attribute 2 Attribute 3 Attribute 4  Attribute 5 Attribute 6  \\\n",
       "0         A11            6         A34         A43         1169         A65   \n",
       "1         A12           48         A32         A43         5951         A61   \n",
       "2         A14           12         A34         A46         2096         A61   \n",
       "3         A11           42         A32         A42         7882         A61   \n",
       "4         A11           24         A33         A40         4870         A61   \n",
       "\n",
       "  Attribute 7  Attribute 8 Attribute 9 Attribute 10     ...      Attribute 12  \\\n",
       "0         A75            4         A93         A101     ...              A121   \n",
       "1         A73            2         A92         A101     ...              A121   \n",
       "2         A74            2         A93         A101     ...              A121   \n",
       "3         A74            2         A93         A103     ...              A122   \n",
       "4         A73            3         A93         A101     ...              A124   \n",
       "\n",
       "  Attribute 13  Attribute 14 Attribute 15 Attribute 16  Attribute 17  \\\n",
       "0           67          A143         A152            2          A173   \n",
       "1           22          A143         A152            1          A173   \n",
       "2           49          A143         A152            1          A172   \n",
       "3           45          A143         A153            1          A173   \n",
       "4           53          A143         A153            2          A173   \n",
       "\n",
       "  Attribute 18  Attribute 19 Attribute 20 Credit Risk  \n",
       "0            1          A192         A201           1  \n",
       "1            1          A191         A201           2  \n",
       "2            2          A191         A201           1  \n",
       "3            2          A191         A201           1  \n",
       "4            2          A191         A201           2  \n",
       "\n",
       "[5 rows x 21 columns]"
      ]
     },
     "execution_count": 2,
     "metadata": {},
     "output_type": "execute_result"
    }
   ],
   "source": [
    "train_data=pd.read_csv(\"credit_data.csv\")\n",
    "train_data.head()"
   ]
  },
  {
   "cell_type": "markdown",
   "metadata": {},
   "source": [
    "We can see the attributes in credit_data_attributes.txt and figure out qualitative attributes and numetical attributes."
   ]
  },
  {
   "cell_type": "code",
   "execution_count": 3,
   "metadata": {},
   "outputs": [
    {
     "name": "stdout",
     "output_type": "stream",
     "text": [
      "Attribute 1:  (qualitative)\n",
      "\t       Status of existing checking account\n",
      "               A11 :      ... <    0 DM\n",
      "\t       A12 : 0 <= ... <  200 DM\n",
      "\t       A13 :      ... >= 200 DM /\n",
      "\t\t     salary assignments for at least 1 year\n",
      "               A14 : no checking account\n",
      "\n",
      "Attribute 2:  (numerical)\n",
      "\t      Duration in month\n",
      "\n",
      "Attribute 3:  (qualitative)\n",
      "\t      Credit history\n",
      "\t      A30 : no credits taken/\n",
      "\t\t    all credits paid back duly\n",
      "              A31 : all credits at this bank paid back duly\n",
      "\t      A32 : existing credits paid back duly till now\n",
      "              A33 : delay in paying off in the past\n",
      "\t      A34 : critical account/\n",
      "\t\t    other credits existing (not at this bank)\n",
      "\n",
      "Attribute 4:  (qualitative)\n",
      "\t      Purpose\n",
      "\t      A40 : car (new)\n",
      "\t      A41 : car (used)\n",
      "\t      A42 : furniture/equipment\n",
      "\t      A43 : radio/television\n",
      "\t      A44 : domestic appliances\n",
      "\t      A45 : repairs\n",
      "\t      A46 : education\n",
      "\t      A47 : (vacation - does not exist?)\n",
      "\t      A48 : retraining\n",
      "\t      A49 : business\n",
      "\t      A410 : others\n",
      "\n",
      "Attribute 5:  (numerical)\n",
      "\t      Credit amount\n",
      "\n",
      "Attibute 6:  (qualitative)\n",
      "\t      Savings account/bonds\n",
      "\t      A61 :          ... <  100 DM\n",
      "\t      A62 :   100 <= ... <  500 DM\n",
      "\t      A63 :   500 <= ... < 1000 DM\n",
      "\t      A64 :          .. >= 1000 DM\n",
      "              A65 :   unknown/ no savings account\n",
      "\n",
      "Attribute 7:  (qualitative)\n",
      "\t      Present employment since\n",
      "\t      A71 : unemployed\n",
      "\t      A72 :       ... < 1 year\n",
      "\t      A73 : 1  <= ... < 4 years  \n",
      "\t      A74 : 4  <= ... < 7 years\n",
      "\t      A75 :       .. >= 7 years\n",
      "\n",
      "Attribute 8:  (numerical)\n",
      "\t      Installment rate in percentage of disposable income\n",
      "\n",
      "Attribute 9:  (qualitative)\n",
      "\t      Personal status and sex\n",
      "\t      A91 : male   : divorced/separated\n",
      "\t      A92 : female : divorced/separated/married\n",
      "              A93 : male   : single\n",
      "\t      A94 : male   : married/widowed\n",
      "\t      A95 : female : single\n",
      "\n",
      "Attribute 10: (qualitative)\n",
      "\t      Other debtors / guarantors\n",
      "\t      A101 : none\n",
      "\t      A102 : co-applicant\n",
      "\t      A103 : guarantor\n",
      "\n",
      "Attribute 11: (numerical)\n",
      "\t      Present residence since\n",
      "\n",
      "Attribute 12: (qualitative)\n",
      "\t      Property\n",
      "\t      A121 : real estate\n",
      "\t      A122 : if not A121 : building society savings agreement/\n",
      "\t\t\t\t   life insurance\n",
      "              A123 : if not A121/A122 : car or other, not in attribute 6\n",
      "\t      A124 : unknown / no property\n",
      "\n",
      "Attribute 13: (numerical)\n",
      "\t      Age in years\n",
      "\n",
      "Attribute 14: (qualitative)\n",
      "\t      Other installment plans \n",
      "\t      A141 : bank\n",
      "\t      A142 : stores\n",
      "\t      A143 : none\n",
      "\n",
      "Attribute 15: (qualitative)\n",
      "\t      Housing\n",
      "\t      A151 : rent\n",
      "\t      A152 : own\n",
      "\t      A153 : for free\n",
      "\n",
      "Attribute 16: (numerical)\n",
      "              Number of existing credits at this bank\n",
      "\n",
      "Attribute 17: (qualitative)\n",
      "\t      Job\n",
      "\t      A171 : unemployed/ unskilled  - non-resident\n",
      "\t      A172 : unskilled - resident\n",
      "\t      A173 : skilled employee / official\n",
      "\t      A174 : management/ self-employed/\n",
      "\t\t     highly qualified employee/ officer\n",
      "\n",
      "Attribute 18: (numerical)\n",
      "\t      Number of people being liable to provide maintenance for\n",
      "\n",
      "Attribute 19: (qualitative)\n",
      "\t      Telephone\n",
      "\t      A191 : none\n",
      "\t      A192 : yes, registered under the customers name\n",
      "\n",
      "Attribute 20: (qualitative)\n",
      "\t      foreign worker\n",
      "\t      A201 : yes\n",
      "\t      A202 : no\n",
      "\n"
     ]
    }
   ],
   "source": [
    "f=open(\"credit_data_attributes.txt\",\"r\")\n",
    "print(f.read())"
   ]
  },
  {
   "cell_type": "code",
   "execution_count": 4,
   "metadata": {},
   "outputs": [],
   "source": [
    "def plot_attrs(df, attrs, attr_type=\"Cat\", normalize=True, plot=True):\n",
    "    \"\"\"\n",
    "    Plot/print the distribution of one or more attributes of DataFrame\n",
    "    \n",
    "    Parameters\n",
    "    ----------\n",
    "    df: DataFrame\n",
    "    attrs: List of attributes (i.e., column names)\n",
    "    \n",
    "    Optional\n",
    "    --------\n",
    "    attr_type: String; \n",
    "      \"Cat\" to indicate that the attributes in attrs are Categorical (so use value_counts)\n",
    "      Otherwise: the attributes must be numeric columns (so use histogram)\n",
    "    \"\"\"\n",
    "    num_attrs = len(attrs)\n",
    "    ncols=2\n",
    "    nrows = max(1,round(num_attrs/ncols))\n",
    "    if num_attrs==1:\n",
    "        fig, axes = plt.subplots(nrows=nrows, ncols=1, figsize=(4, num_attrs*3))\n",
    "    else:\n",
    "        fig, axes = plt.subplots(nrows=nrows, ncols=ncols, figsize=(ncols*4, num_attrs*3))\n",
    "    # Make sure axes is an array (special case when num_attrs==1)\n",
    "    if num_attrs == 1:\n",
    "        axes =np.array( [ axes ])\n",
    "        \n",
    "    for i, attr in enumerate(attrs):\n",
    "        if attr_type == \"Cat\":\n",
    "            alpha_bar_chart = 0.55\n",
    "            plot_data = df.loc[:, attr ].value_counts(normalize=normalize).sort_index()\n",
    "            \n",
    "            args = { \"kind\":\"bar\" } #, \"alpha\":alpha_bar_chart}\n",
    "            kind=\"bar\"\n",
    "        else:\n",
    "            plot_data = df.loc[:, [attr] ]\n",
    "            \n",
    "            args = { \"kind\":\"hist\"}\n",
    "            if normalize:\n",
    "                args[\"density\"] = True\n",
    "            kind=\"hist\"\n",
    "            \n",
    "        if plot:\n",
    "            _ = plot_data.plot(title=attr, ax=axes.flatten()[i], **args)\n",
    "        else:\n",
    "            print(attr + \"\\n\")\n",
    "            print(plot_data)\n",
    "            print(\"\\n\")"
   ]
  },
  {
   "cell_type": "code",
   "execution_count": 5,
   "metadata": {},
   "outputs": [
    {
     "data": {
      "image/png": "[encoded data removed]",
      "text/plain": [
       "<Figure size 576x2592 with 12 Axes>"
      ]
     },
     "metadata": {
      "needs_background": "light"
     },
     "output_type": "display_data"
    }
   ],
   "source": [
    "plot_attrs(train_data, [\"Attribute 1\",\"Attribute 3\",\"Attribute 4\",\"Attribute 6\",\"Attribute 7\",\"Attribute 9\" ,\"Attribute 10\",\"Attribute 12\",\"Attribute 14\",\"Attribute 15\",\"Attribute 17\",\"Attribute 19\"], attr_type=\"Cat\", plot=True)\n",
    " "
   ]
  },
  {
   "cell_type": "code",
   "execution_count": 6,
   "metadata": {},
   "outputs": [
    {
     "data": {
      "image/png": "[encoded data removed]",
      "text/plain": [
       "<Figure size 576x1512 with 8 Axes>"
      ]
     },
     "metadata": {
      "needs_background": "light"
     },
     "output_type": "display_data"
    }
   ],
   "source": [
    "plot_attrs(train_data,[\"Attribute 2\",\"Attribute 5\",\"Attribute 8\" ,\"Attribute 11\",\"Attribute 13\",\"Attribute 16\",\"Attribute 18\"],attr_type=\"Num\")"
   ]
  },
  {
   "cell_type": "markdown",
   "metadata": {},
   "source": [
    "# Data Processing"
   ]
  },
  {
   "cell_type": "code",
   "execution_count": 7,
   "metadata": {},
   "outputs": [],
   "source": [
    "from sklearn.base import BaseEstimator, TransformerMixin\n",
    "\n",
    "# A class to select numerical or categorical columns \n",
    "# since Scikit-Learn doesn't handle DataFrames yet\n",
    "class DataFrameSelector(BaseEstimator, TransformerMixin):\n",
    "    def __init__(self, attribute_names):\n",
    "        self.attribute_names = attribute_names\n",
    "    def fit(self, X, y=None):\n",
    "        return self\n",
    "    def transform(self, X):\n",
    "        return X[self.attribute_names].values"
   ]
  },
  {
   "cell_type": "markdown",
   "metadata": {},
   "source": [
    "- Make two pipelines of category data for baseline model and random forest model and a pipeline of numerical data.\n",
    "- Then we use feature union to get dataframe which we make it an array to enhance processing efficiency."
   ]
  },
  {
   "cell_type": "markdown",
   "metadata": {},
   "source": [
    "## category data"
   ]
  },
  {
   "cell_type": "markdown",
   "metadata": {},
   "source": [
    "- AxxToInt:transform category data into int \n",
    "- Array_Dummy_Drop:use onehotcoder to creat dummy variables and drop one to aviod collinearity."
   ]
  },
  {
   "cell_type": "code",
   "execution_count": 8,
   "metadata": {},
   "outputs": [],
   "source": [
    "from sklearn.pipeline import FeatureUnion\n",
    "from sklearn.preprocessing import OneHotEncoder\n",
    "from sklearn.pipeline import Pipeline\n",
    "\n",
    "\n",
    "class AxxToInt(BaseEstimator, TransformerMixin):\n",
    "    def fit(self, X, y=None):\n",
    "        return self    \n",
    "    def transform(self, X, y=None):\n",
    "        for i,ch in enumerate(X):\n",
    "            for j,ch_1 in enumerate(ch):\n",
    "                X[i][j]=int(ch_1[1:])\n",
    "        return X\n",
    "\n",
    "class Array_Dummy_Drop(BaseEstimator, TransformerMixin):\n",
    "    def fit(self, X, y=None):\n",
    "        return self    \n",
    "    def transform(self, X, y=None):\n",
    "        X=X.T\n",
    "        res  = OneHotEncoder(sparse=False,categories='auto').fit_transform(X[0].T.reshape(-1,1))\n",
    "        res = np.delete(res,0,1)\n",
    "        for i,ch in enumerate(X[1:]):\n",
    "            temp=OneHotEncoder(sparse=False,categories='auto').fit_transform(X[i].T.reshape(-1,1))\n",
    "            temp=np.delete(temp,0,1)\n",
    "            res=np.concatenate((res,temp),axis=1)\n",
    "        return res\n",
    "    \n",
    "cat_features = [\"Attribute 1\",\"Attribute 3\",\"Attribute 4\",\"Attribute 6\",\"Attribute 7\",\"Attribute 9\" ,\"Attribute 10\",\"Attribute 12\",\"Attribute 14\",\"Attribute 15\",\"Attribute 17\",\"Attribute 19\",\"Attribute 20\"]\n",
    "           \n",
    "\n",
    "cat_pipeline = Pipeline([\n",
    "        (\"select_cat\", DataFrameSelector(cat_features)),\n",
    "        (\"Axx_encoder\",AxxToInt() ),\n",
    "        (\"Dummy_Drop\",Array_Dummy_Drop() )\n",
    "    \n",
    "    ])#for baseline model\n",
    "    \n",
    "cat_pipeline_1 = Pipeline([\n",
    "        (\"select_cat\", DataFrameSelector(cat_features)),\n",
    "        (\"Axx_encoder\",AxxToInt() ),\n",
    "    \n",
    "    ])#for randomforest model"
   ]
  },
  {
   "cell_type": "markdown",
   "metadata": {},
   "source": [
    "- cat_pipeline: Include dummy variables for baseline model.\n",
    "- cat_pipeline_1: Not include dummy variables for random forest model."
   ]
  },
  {
   "cell_type": "markdown",
   "metadata": {},
   "source": [
    "## numeric data"
   ]
  },
  {
   "cell_type": "code",
   "execution_count": 9,
   "metadata": {},
   "outputs": [],
   "source": [
    "num_features = [\"Attribute 2\",\"Attribute 5\",\"Attribute 8\" ,\"Attribute 11\",\"Attribute 13\",\"Attribute 16\",\"Attribute 18\"]\n",
    "num_pipeline = Pipeline([\n",
    "        (\"select_numeric\", DataFrameSelector( num_features )),\n",
    "    ])           \n"
   ]
  },
  {
   "cell_type": "markdown",
   "metadata": {},
   "source": [
    "## features union"
   ]
  },
  {
   "cell_type": "code",
   "execution_count": 10,
   "metadata": {},
   "outputs": [
    {
     "name": "stdout",
     "output_type": "stream",
     "text": [
      "(1000, 50)\n"
     ]
    },
    {
     "data": {
      "text/plain": [
       "array([[6.000e+00, 1.169e+03, 4.000e+00, ..., 1.000e+00, 0.000e+00,\n",
       "        1.000e+00],\n",
       "       [4.800e+01, 5.951e+03, 2.000e+00, ..., 1.000e+00, 0.000e+00,\n",
       "        0.000e+00],\n",
       "       [1.200e+01, 2.096e+03, 2.000e+00, ..., 0.000e+00, 0.000e+00,\n",
       "        0.000e+00],\n",
       "       ...,\n",
       "       [1.200e+01, 8.040e+02, 4.000e+00, ..., 1.000e+00, 0.000e+00,\n",
       "        0.000e+00],\n",
       "       [4.500e+01, 1.845e+03, 4.000e+00, ..., 1.000e+00, 0.000e+00,\n",
       "        1.000e+00],\n",
       "       [4.500e+01, 4.576e+03, 3.000e+00, ..., 1.000e+00, 0.000e+00,\n",
       "        0.000e+00]])"
      ]
     },
     "execution_count": 10,
     "metadata": {},
     "output_type": "execute_result"
    }
   ],
   "source": [
    "preprocess_pipeline= FeatureUnion(transformer_list=[\n",
    "        (\"num_pipeline\", num_pipeline),\n",
    "        (\"cat_pipeline\", cat_pipeline),\n",
    "    ])\n",
    "\n",
    "X_train_base = preprocess_pipeline.fit_transform(train_data)\n",
    "y_train=train_data['Credit Risk']\n",
    "print(X_train_base.shape)\n",
    "X_train_base\n"
   ]
  },
  {
   "cell_type": "markdown",
   "metadata": {},
   "source": [
    "# Baseline model"
   ]
  },
  {
   "cell_type": "code",
   "execution_count": 11,
   "metadata": {},
   "outputs": [
    {
     "data": {
      "text/plain": [
       "0.752"
      ]
     },
     "execution_count": 11,
     "metadata": {},
     "output_type": "execute_result"
    }
   ],
   "source": [
    "from sklearn import linear_model, preprocessing, model_selection \n",
    "from sklearn.model_selection import cross_val_score\n",
    "logistic_clf = linear_model.LogisticRegression(solver='liblinear')\n",
    "SCORE = cross_val_score(logistic_clf,X_train_base,y_train, cv=5, scoring = \"accuracy\")\n",
    "SCORE=SCORE.mean()\n",
    "SCORE"
   ]
  },
  {
   "cell_type": "markdown",
   "metadata": {},
   "source": [
    "- After evaluating the score of the model, we also have to use confusion matrix to see the prediction bias."
   ]
  },
  {
   "cell_type": "code",
   "execution_count": 12,
   "metadata": {},
   "outputs": [
    {
     "name": "stdout",
     "output_type": "stream",
     "text": [
      "Confusion matrix, without normalization\n"
     ]
    },
    {
     "data": {
      "image/png": "[encoded data removed]",
      "text/plain": [
       "<Figure size 432x288 with 2 Axes>"
      ]
     },
     "metadata": {
      "needs_background": "light"
     },
     "output_type": "display_data"
    }
   ],
   "source": [
    "from sklearn.model_selection import cross_val_predict\n",
    "from sklearn import datasets, svm, metrics\n",
    "from sklearn.metrics import precision_recall_curve\n",
    "\n",
    "\n",
    "\n",
    "# %load mnist_plot_confusion.py\n",
    "import itertools\n",
    "\n",
    "def plot_confusion_matrix(cm, classes,\n",
    "                          normalize=False,\n",
    "                          title='Confusion matrix',\n",
    "                          cmap=plt.cm.Blues):\n",
    "    \"\"\"\n",
    "    This function prints and plots the confusion matrix.\n",
    "    Normalization can be applied by setting `normalize=True`.\n",
    "    \"\"\"\n",
    "    if normalize:\n",
    "        # Normalize by row sums\n",
    "        cm_pct = cm.astype('float') / cm.sum(axis=1)[:, np.newaxis]\n",
    "        cm = np.around( 100 * cm_pct, decimals=0).astype(int)\n",
    "        \n",
    "        print(\"Normalized confusion matrix\")\n",
    "    else:\n",
    "        print('Confusion matrix, without normalization')\n",
    "\n",
    "    plt.imshow(cm, interpolation='nearest', cmap=cmap)\n",
    "    plt.title(title)\n",
    "    plt.colorbar()\n",
    "    tick_marks = np.arange(len(classes))\n",
    "    plt.xticks(tick_marks, classes, rotation=45)\n",
    "    plt.yticks(tick_marks, classes)\n",
    "\n",
    "    fmt = '.2f' if normalize else 'd'\n",
    "    fmt = 'd'\n",
    "    thresh = cm.max() / 2.\n",
    "    for i, j in itertools.product(range(cm.shape[0]), range(cm.shape[1])):\n",
    "        # Plot coordinate system has origin in upper left corner\n",
    "        # -  coordinates are (horizontal offset, vertical offset)\n",
    "        # -  so cm[i,j] should appear in plot coordinate (j,i)\n",
    "        plt.text(j, i, format(cm[i, j], fmt),\n",
    "                 horizontalalignment=\"center\",\n",
    "                 color=\"white\" if cm[i, j] > thresh else \"black\")\n",
    "\n",
    "    plt.ylabel('True label')\n",
    "    plt.xlabel('Predicted label')\n",
    "    plt.tight_layout()\n",
    "\n",
    "\n",
    "expected= y_train\n",
    "predicted = cross_val_predict(logistic_clf, X_train_base, y_train, cv=5)\n",
    "\n",
    "confusion_mat_l = metrics.confusion_matrix(expected, predicted)\n",
    "plot_confusion_matrix(confusion_mat_l, range(2))"
   ]
  },
  {
   "cell_type": "code",
   "execution_count": 13,
   "metadata": {},
   "outputs": [
    {
     "name": "stdout",
     "output_type": "stream",
     "text": [
      "prediction accuracy for good credit customer 0.8771428571428571\n",
      "prediction accuracy for bad credit customer 0.46\n"
     ]
    }
   ],
   "source": [
    "a1=confusion_mat_l[0][0]/(confusion_mat_l[0][0]+confusion_mat_l[0][1])\n",
    "print(\"prediction accuracy for good credit customer {a1}\".format(a1=a1))\n",
    "a2=confusion_mat_l[1][1]/(confusion_mat_l[1][1]+confusion_mat_l[1][0])\n",
    "print(\"prediction accuracy for bad credit customer {a2}\".format(a2=a2))"
   ]
  },
  {
   "cell_type": "markdown",
   "metadata": {},
   "source": [
    "- We can find that a customer who is a Bad credit risk can be easily misjudged to be a Good credit risk.\n",
    "- This is because target data is not balanced. In random forest model,we implement class weight balanced."
   ]
  },
  {
   "cell_type": "markdown",
   "metadata": {},
   "source": [
    "# Random forest model"
   ]
  },
  {
   "cell_type": "markdown",
   "metadata": {},
   "source": [
    "## feature union"
   ]
  },
  {
   "cell_type": "code",
   "execution_count": 14,
   "metadata": {},
   "outputs": [],
   "source": [
    "preprocess_pipeline_1= FeatureUnion(transformer_list=[\n",
    "        (\"num_pipeline\", num_pipeline),\n",
    "        (\"cat_pipeline1\", cat_pipeline_1),\n",
    "    ])\n",
    "\n",
    "X_train_base_1 = preprocess_pipeline_1.fit_transform(train_data)\n"
   ]
  },
  {
   "cell_type": "code",
   "execution_count": 15,
   "metadata": {},
   "outputs": [
    {
     "name": "stdout",
     "output_type": "stream",
     "text": [
      "Before OverSampling,the shape of X_train_1:(800, 20)\n",
      "Before OverSampling,the shape of y_train_1:(800,)\n",
      "\n",
      "Before OverSampling,counts of lable \"1\":558\n",
      "Before OverSampling,counts of lable \"2\":242\n"
     ]
    }
   ],
   "source": [
    "from sklearn.model_selection import train_test_split\n",
    "X_train_1, X_test, y_train_1, y_test = train_test_split(X_train_base_1, y_train, test_size=0.2, random_state=0)\n",
    "print('Before OverSampling,the shape of X_train_1:{}'.format(X_train_1.shape))\n",
    "print('Before OverSampling,the shape of y_train_1:{}\\n'.format(y_train_1.shape))\n",
    "print('Before OverSampling,counts of lable \"1\":{}'.format(sum(y_train_1==1)))\n",
    "print('Before OverSampling,counts of lable \"2\":{}'.format(sum(y_train_1==2)))\n"
   ]
  },
  {
   "cell_type": "code",
   "execution_count": 16,
   "metadata": {},
   "outputs": [
    {
     "data": {
      "text/plain": [
       "0.74"
      ]
     },
     "execution_count": 16,
     "metadata": {},
     "output_type": "execute_result"
    }
   ],
   "source": [
    "from sklearn.ensemble import RandomForestClassifier\n",
    "\n",
    "credit_model_0= RandomForestClassifier(n_estimators=100,max_depth=5,random_state=0) \n",
    "credit_model_0.fit(X_train_1,y_train_1)\n",
    "credit_model_0.score(X_test,y_test)"
   ]
  },
  {
   "cell_type": "code",
   "execution_count": 17,
   "metadata": {},
   "outputs": [
    {
     "name": "stdout",
     "output_type": "stream",
     "text": [
      "Confusion matrix, without normalization\n"
     ]
    },
    {
     "data": {
      "image/png": "[encoded data removed]",
      "text/plain": [
       "<Figure size 432x288 with 2 Axes>"
      ]
     },
     "metadata": {
      "needs_background": "light"
     },
     "output_type": "display_data"
    }
   ],
   "source": [
    "expected= y_test\n",
    "predicted=credit_model_0.predict(X_test)\n",
    "confusion_mat_0 = metrics.confusion_matrix(expected, predicted)\n",
    "plot_confusion_matrix(confusion_mat_0, range(2))"
   ]
  },
  {
   "cell_type": "code",
   "execution_count": 18,
   "metadata": {},
   "outputs": [
    {
     "name": "stdout",
     "output_type": "stream",
     "text": [
      "prediction accuracy for good credit customer 0.9225352112676056\n",
      "prediction accuracy for bad credit customer 0.29310344827586204\n"
     ]
    }
   ],
   "source": [
    "a1=confusion_mat_0[0][0]/(confusion_mat_0[0][0]+confusion_mat_0[0][1])\n",
    "print(\"prediction accuracy for good credit customer {a1}\".format(a1=a1))\n",
    "a2=confusion_mat_0[1][1]/(confusion_mat_0[1][1]+confusion_mat_0[1][0])\n",
    "print(\"prediction accuracy for bad credit customer {a2}\".format(a2=a2))"
   ]
  },
  {
   "cell_type": "markdown",
   "metadata": {},
   "source": [
    "We can see that in random forest model, imbalanced data makes confusion matrix worse although model accuracy is almost the same as baseline model."
   ]
  },
  {
   "cell_type": "markdown",
   "metadata": {},
   "source": [
    "In order to settle the imbalance problem we use SMOTE, which is an oversampling method."
   ]
  },
  {
   "cell_type": "markdown",
   "metadata": {},
   "source": [
    "- \"SMOTE\" : (Synthetic Minority Oversampling Technique ) which increase the number of samples of under sampled data. In this case, we increase the number of the Bad Credit and make two kinds of people same in training data."
   ]
  },
  {
   "cell_type": "code",
   "execution_count": 19,
   "metadata": {},
   "outputs": [
    {
     "name": "stdout",
     "output_type": "stream",
     "text": [
      "After OverSampling,the shape of X_train_1:(800, 20)\n",
      "After OverSampling,the shape of y_train_1:(800,)\n",
      "\n",
      "After OverSampling,counts of lable \"1\":558\n",
      "After OverSampling,counts of lable \"2\":558\n"
     ]
    }
   ],
   "source": [
    "from imblearn.over_sampling import SMOTE\n",
    "\n",
    "sm=SMOTE(random_state=0)\n",
    "\n",
    "X_train_res,y_train_res=sm.fit_sample(X_train_1,y_train_1.ravel())\n",
    "\n",
    "print('After OverSampling,the shape of X_train_1:{}'.format(X_train_1.shape))\n",
    "print('After OverSampling,the shape of y_train_1:{}\\n'.format(y_train_1.shape))\n",
    "print('After OverSampling,counts of lable \"1\":{}'.format(sum(y_train_res==1)))\n",
    "print('After OverSampling,counts of lable \"2\":{}'.format(sum(y_train_res==2)))\n"
   ]
  },
  {
   "cell_type": "markdown",
   "metadata": {},
   "source": [
    "We split the data sample and use 20% data in the sample as testing sample. \n",
    "We can see counts of lable \"1\" and counts of lable \"2\" are the same after oversampling. So after solve the sample data imbalance problem, we can use randomforestclassifier to establish the credit model."
   ]
  },
  {
   "cell_type": "code",
   "execution_count": 20,
   "metadata": {},
   "outputs": [
    {
     "data": {
      "text/plain": [
       "0.725"
      ]
     },
     "execution_count": 20,
     "metadata": {},
     "output_type": "execute_result"
    }
   ],
   "source": [
    "credit_model= RandomForestClassifier(n_estimators=100,max_depth=5,random_state=0) \n",
    "credit_model.fit(X_train_res,y_train_res)\n",
    "credit_model.score(X_test,y_test)"
   ]
  },
  {
   "cell_type": "code",
   "execution_count": 21,
   "metadata": {},
   "outputs": [
    {
     "name": "stdout",
     "output_type": "stream",
     "text": [
      "Confusion matrix, without normalization\n"
     ]
    },
    {
     "data": {
      "image/png": "[encoded data removed]",
      "text/plain": [
       "<Figure size 432x288 with 2 Axes>"
      ]
     },
     "metadata": {
      "needs_background": "light"
     },
     "output_type": "display_data"
    }
   ],
   "source": [
    "expected= y_test\n",
    "predicted=credit_model.predict(X_test)\n",
    "confusion_mat = metrics.confusion_matrix(expected, predicted)\n",
    "plot_confusion_matrix(confusion_mat, range(2))"
   ]
  },
  {
   "cell_type": "code",
   "execution_count": 22,
   "metadata": {},
   "outputs": [
    {
     "name": "stdout",
     "output_type": "stream",
     "text": [
      "prediction accuracy for good credit customer 0.7535211267605634\n",
      "prediction accuracy for bad credit customer 0.6551724137931034\n"
     ]
    }
   ],
   "source": [
    "a1=confusion_mat[0][0]/(confusion_mat[0][0]+confusion_mat[0][1])\n",
    "print(\"prediction accuracy for good credit customer {a1}\".format(a1=a1))\n",
    "a2=confusion_mat[1][1]/(confusion_mat[1][1]+confusion_mat[1][0])\n",
    "print(\"prediction accuracy for bad credit customer {a2}\".format(a2=a2))"
   ]
  },
  {
   "cell_type": "markdown",
   "metadata": {},
   "source": [
    "####  Conclusion of random forest model:\n",
    "- We can see the score of the random forest model is lower than that of baseline model. But we can see the improvement of confusion matrix. \n",
    "- In real life, it's worse when we classify a bad credit customer mistakenly as a good credit customer rather than classifying a good credit customer as a bad credit customer because the former one is the resource of credit risk.\n",
    "- By using oversampling, we increase the weight of the bad credit customer sample data which makes it better to evaluate the credit of all customers."
   ]
  },
  {
   "cell_type": "markdown",
   "metadata": {},
   "source": [
    "# summary"
   ]
  },
  {
   "cell_type": "markdown",
   "metadata": {},
   "source": [
    "- It is obvious that Logistic Model is not a good choice to predict the credit of a customer because there are many category variables.\n",
    "- Randomforest Model without oversampling makes a good prediction on good credit customers but performance on prediction of bad credit customers is really bad.\n",
    "- After oversampling, accuracy of Randomforest Model falls a bit but confusion matrix is improved a lot which shows the importance of balance weights of good credit customers data and bad credit customers data.\n",
    "- To sum up, in order to make better prediction in real life, we have to focus on data balance instead of just paying much attention to accuracy of models."
   ]
  },
  {
   "cell_type": "markdown",
   "metadata": {},
   "source": [
    "# testing place"
   ]
  },
  {
   "cell_type": "markdown",
   "metadata": {},
   "source": [
    "- Input X_testing_data and y_testing_data. \n",
    "- Use credit_model.predict(X_testing_data) to do prediction.\n",
    "- Use credit_model.score(X_testing_data,y_testing_data) to see accuracy."
   ]
  }
 ],
 "metadata": {
  "kernelspec": {
   "display_name": "Python 3",
   "language": "python",
   "name": "python3"
  },
  "language_info": {
   "codemirror_mode": {
    "name": "ipython",
    "version": 3
   },
   "file_extension": ".py",
   "mimetype": "text/x-python",
   "name": "python",
   "nbconvert_exporter": "python",
   "pygments_lexer": "ipython3",
   "version": "3.7.1"
  },
  "toc": {
   "base_numbering": 1,
   "nav_menu": {},
   "number_sections": true,
   "sideBar": true,
   "skip_h1_title": false,
   "title_cell": "Table of Contents",
   "title_sidebar": "Contents",
   "toc_cell": false,
   "toc_position": {},
   "toc_section_display": true,
   "toc_window_display": false
  }
 },
 "nbformat": 4,
 "nbformat_minor": 2
}
